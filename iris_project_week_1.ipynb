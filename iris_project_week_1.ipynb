{
  "nbformat": 4,
  "nbformat_minor": 0,
  "metadata": {
    "colab": {
      "provenance": [],
      "authorship_tag": "ABX9TyMzQT6/Csw7fdAsyLwHWHvz",
      "include_colab_link": true
    },
    "kernelspec": {
      "name": "python3",
      "display_name": "Python 3"
    },
    "language_info": {
      "name": "python"
    }
  },
  "cells": [
    {
      "cell_type": "markdown",
      "metadata": {
        "id": "view-in-github",
        "colab_type": "text"
      },
      "source": [
        "<a href=\"https://colab.research.google.com/github/MohamedAfzal0719/NSP-Internship/blob/main/iris_project_week_1.ipynb\" target=\"_parent\"><img src=\"https://colab.research.google.com/assets/colab-badge.svg\" alt=\"Open In Colab\"/></a>"
      ]
    },
    {
      "cell_type": "code",
      "execution_count": null,
      "metadata": {
        "id": "hVzZqv95xeIu"
      },
      "outputs": [],
      "source": [
        "import pandas as pd\n",
        "import numpy as np\n",
        "import matplotlib.pyplot as plt\n",
        "import seaborn as sns\n",
        "from sklearn.datasets import load_iris\n",
        "from sklearn.model_selection import train_test_split\n",
        "from sklearn.neighbors import KNeighborsClassifier\n",
        "from sklearn.metrics import accuracy_score, confusion_matrix, classification_report\n"
      ]
    },
    {
      "cell_type": "code",
      "source": [
        "# Load the Iris dataset\n",
        "data = load_iris()\n",
        "df = pd.DataFrame(data.data, columns=data.feature_names)\n",
        "df['species'] = data.target\n",
        "df['species'] = df['species'].map({0: 'setosa', 1: 'versicolor', 2: 'virginica'})\n",
        "df.head()\n",
        "\n"
      ],
      "metadata": {
        "id": "VdAk5metxtIx"
      },
      "execution_count": null,
      "outputs": []
    },
    {
      "cell_type": "code",
      "source": [
        "sns.countplot(x='species', data=df)\n",
        "plt.title(\"Count of each Iris Species\")\n",
        "plt.show()\n"
      ],
      "metadata": {
        "id": "m2Jnxtzwxw3w"
      },
      "execution_count": null,
      "outputs": []
    },
    {
      "cell_type": "code",
      "source": [
        "sns.pairplot(df, hue=\"species\")\n"
      ],
      "metadata": {
        "id": "Fd8Y84r1x3VY"
      },
      "execution_count": null,
      "outputs": []
    },
    {
      "cell_type": "code",
      "source": [
        "X = df.drop('species', axis=1)\n",
        "y = df['species']\n",
        "\n",
        "X_train, X_test, y_train, y_test = train_test_split(X, y, test_size=0.2, random_state=42)\n"
      ],
      "metadata": {
        "id": "IY3Pvc3Hx53P"
      },
      "execution_count": null,
      "outputs": []
    },
    {
      "cell_type": "code",
      "source": [
        "knn = KNeighborsClassifier(n_neighbors=3)\n",
        "knn.fit(X_train, y_train)\n"
      ],
      "metadata": {
        "id": "akJPHGsox-eD"
      },
      "execution_count": null,
      "outputs": []
    },
    {
      "cell_type": "code",
      "source": [
        "y_pred = knn.predict(X_test)\n",
        "\n",
        "print(\"Accuracy:\", accuracy_score(y_test, y_pred))\n",
        "print(\"\\nClassification Report:\\n\", classification_report(y_test, y_pred))\n"
      ],
      "metadata": {
        "id": "j6uTq_QgyHUQ"
      },
      "execution_count": null,
      "outputs": []
    },
    {
      "cell_type": "code",
      "source": [
        "from IPython.display import display\n",
        "import ipywidgets as widgets\n",
        "\n",
        "def classify_flower(sepal_length, sepal_width, petal_length, petal_width):\n",
        "    user_input = pd.DataFrame([[sepal_length, sepal_width, petal_length, petal_width]], columns=X.columns)\n",
        "    prediction = knn.predict(user_input)[0]\n",
        "    print(f\"🌼 Predicted Iris Species: {prediction.upper()}\")\n",
        "\n",
        "widgets.interact(classify_flower,\n",
        "                 sepal_length=widgets.FloatSlider(min=4.0, max=8.0, step=0.1, value=5.1),\n",
        "                 sepal_width=widgets.FloatSlider(min=2.0, max=4.5, step=0.1, value=3.5),\n",
        "                 petal_length=widgets.FloatSlider(min=1.0, max=7.0, step=0.1, value=1.4),\n",
        "                 petal_width=widgets.FloatSlider(min=0.1, max=2.5, step=0.1, value=0.2))\n"
      ],
      "metadata": {
        "id": "m-4ZAvy3yJzW"
      },
      "execution_count": null,
      "outputs": []
    },
    {
      "cell_type": "code",
      "source": [
        "cm = confusion_matrix(y_test, y_pred)\n",
        "sns.heatmap(cm, annot=True, fmt='d', xticklabels=data.target_names, yticklabels=data.target_names)\n",
        "plt.xlabel(\"Predicted\")\n",
        "plt.ylabel(\"Actual\")\n",
        "plt.title(\"Confusion Matrix\")\n",
        "plt.show()\n"
      ],
      "metadata": {
        "id": "5sE2mAZLyNCV"
      },
      "execution_count": null,
      "outputs": []
    },
    {
      "cell_type": "code",
      "source": [
        "from sklearn.tree import DecisionTreeClassifier\n",
        "\n",
        "dtree = DecisionTreeClassifier()\n",
        "dtree.fit(X_train, y_train)\n",
        "\n",
        "importances = dtree.feature_importances_\n",
        "feat_importance = pd.Series(importances, index=X.columns)\n",
        "feat_importance.sort_values().plot(kind='barh')\n",
        "plt.title(\"Feature Importance (Decision Tree)\")\n",
        "plt.show()\n"
      ],
      "metadata": {
        "id": "Ga1NlV9dyP9y"
      },
      "execution_count": null,
      "outputs": []
    },
    {
      "cell_type": "code",
      "source": [
        "# 🔍 User Prediction Section\n",
        "print(\"\\n🌸 Flower Species Predictor 🌸\")\n",
        "try:\n",
        "    # Get user input\n",
        "    sepal_length = float(input(\"Enter Sepal Length (cm): \"))\n",
        "    sepal_width = float(input(\"Enter Sepal Width (cm): \"))\n",
        "    petal_length = float(input(\"Enter Petal Length (cm): \"))\n",
        "    petal_width = float(input(\"Enter Petal Width (cm): \"))\n",
        "\n",
        "    # Create a DataFrame for the input\n",
        "    user_input = pd.DataFrame([[sepal_length, sepal_width, petal_length, petal_width]],\n",
        "                              columns=X.columns)\n",
        "\n",
        "    # Predict the species\n",
        "    prediction = knn.predict(user_input)[0]\n",
        "\n",
        "    print(f\"\\n🌼 Based on your input, the predicted Iris species is: **{prediction.upper()}**\")\n",
        "except Exception as e:\n",
        "    print(\"⚠️ Invalid input! Please enter numeric values only.\")\n"
      ],
      "metadata": {
        "id": "JdNyfQ-yySeL"
      },
      "execution_count": null,
      "outputs": []
    },
    {
      "cell_type": "code",
      "source": [],
      "metadata": {
        "id": "x32X54CAyVHb"
      },
      "execution_count": null,
      "outputs": []
    }
  ]
}